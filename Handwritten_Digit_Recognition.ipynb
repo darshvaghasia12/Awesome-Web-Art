{
  "nbformat": 4,
  "nbformat_minor": 0,
  "metadata": {
    "colab": {
      "name": "Handwritten Digit Recognition.ipynb",
      "provenance": [],
      "mount_file_id": "17ZUaNcv-YB6ARMiskyh5MfF_n8xt1y4c",
      "authorship_tag": "ABX9TyM85j2B/BQn8D4ApT5N1CKI",
      "include_colab_link": true
    },
    "kernelspec": {
      "name": "python3",
      "display_name": "Python 3"
    }
  },
  "cells": [
    {
      "cell_type": "markdown",
      "metadata": {
        "id": "view-in-github",
        "colab_type": "text"
      },
      "source": [
        "<a href=\"https://colab.research.google.com/github/darshvaghasia12/Awesome-Web-Art/blob/master/Handwritten_Digit_Recognition.ipynb\" target=\"_parent\"><img src=\"https://colab.research.google.com/assets/colab-badge.svg\" alt=\"Open In Colab\"/></a>"
      ]
    },
    {
      "cell_type": "code",
      "metadata": {
        "colab": {
          "base_uri": "https://localhost:8080/"
        },
        "id": "8nVVeigi_h4e",
        "outputId": "d448def5-da85-477b-bd26-16ab55f4a2e2"
      },
      "source": [
        "!pip install tensorflow"
      ],
      "execution_count": null,
      "outputs": [
        {
          "output_type": "stream",
          "text": [
            "Requirement already satisfied: tensorflow in /usr/local/lib/python3.6/dist-packages (2.4.0)\n",
            "Requirement already satisfied: gast==0.3.3 in /usr/local/lib/python3.6/dist-packages (from tensorflow) (0.3.3)\n",
            "Requirement already satisfied: keras-preprocessing~=1.1.2 in /usr/local/lib/python3.6/dist-packages (from tensorflow) (1.1.2)\n",
            "Requirement already satisfied: protobuf>=3.9.2 in /usr/local/lib/python3.6/dist-packages (from tensorflow) (3.12.4)\n",
            "Requirement already satisfied: absl-py~=0.10 in /usr/local/lib/python3.6/dist-packages (from tensorflow) (0.10.0)\n",
            "Requirement already satisfied: flatbuffers~=1.12.0 in /usr/local/lib/python3.6/dist-packages (from tensorflow) (1.12)\n",
            "Requirement already satisfied: wheel~=0.35 in /usr/local/lib/python3.6/dist-packages (from tensorflow) (0.36.2)\n",
            "Requirement already satisfied: six~=1.15.0 in /usr/local/lib/python3.6/dist-packages (from tensorflow) (1.15.0)\n",
            "Requirement already satisfied: opt-einsum~=3.3.0 in /usr/local/lib/python3.6/dist-packages (from tensorflow) (3.3.0)\n",
            "Requirement already satisfied: termcolor~=1.1.0 in /usr/local/lib/python3.6/dist-packages (from tensorflow) (1.1.0)\n",
            "Requirement already satisfied: wrapt~=1.12.1 in /usr/local/lib/python3.6/dist-packages (from tensorflow) (1.12.1)\n",
            "Requirement already satisfied: google-pasta~=0.2 in /usr/local/lib/python3.6/dist-packages (from tensorflow) (0.2.0)\n",
            "Requirement already satisfied: grpcio~=1.32.0 in /usr/local/lib/python3.6/dist-packages (from tensorflow) (1.32.0)\n",
            "Requirement already satisfied: typing-extensions~=3.7.4 in /usr/local/lib/python3.6/dist-packages (from tensorflow) (3.7.4.3)\n",
            "Requirement already satisfied: astunparse~=1.6.3 in /usr/local/lib/python3.6/dist-packages (from tensorflow) (1.6.3)\n",
            "Requirement already satisfied: tensorflow-estimator<2.5.0,>=2.4.0rc0 in /usr/local/lib/python3.6/dist-packages (from tensorflow) (2.4.0)\n",
            "Requirement already satisfied: tensorboard~=2.4 in /usr/local/lib/python3.6/dist-packages (from tensorflow) (2.4.0)\n",
            "Requirement already satisfied: numpy~=1.19.2 in /usr/local/lib/python3.6/dist-packages (from tensorflow) (1.19.5)\n",
            "Requirement already satisfied: h5py~=2.10.0 in /usr/local/lib/python3.6/dist-packages (from tensorflow) (2.10.0)\n",
            "Requirement already satisfied: setuptools in /usr/local/lib/python3.6/dist-packages (from protobuf>=3.9.2->tensorflow) (51.3.3)\n",
            "Requirement already satisfied: google-auth-oauthlib<0.5,>=0.4.1 in /usr/local/lib/python3.6/dist-packages (from tensorboard~=2.4->tensorflow) (0.4.2)\n",
            "Requirement already satisfied: requests<3,>=2.21.0 in /usr/local/lib/python3.6/dist-packages (from tensorboard~=2.4->tensorflow) (2.23.0)\n",
            "Requirement already satisfied: markdown>=2.6.8 in /usr/local/lib/python3.6/dist-packages (from tensorboard~=2.4->tensorflow) (3.3.3)\n",
            "Requirement already satisfied: werkzeug>=0.11.15 in /usr/local/lib/python3.6/dist-packages (from tensorboard~=2.4->tensorflow) (1.0.1)\n",
            "Requirement already satisfied: tensorboard-plugin-wit>=1.6.0 in /usr/local/lib/python3.6/dist-packages (from tensorboard~=2.4->tensorflow) (1.7.0)\n",
            "Requirement already satisfied: google-auth<2,>=1.6.3 in /usr/local/lib/python3.6/dist-packages (from tensorboard~=2.4->tensorflow) (1.17.2)\n",
            "Requirement already satisfied: requests-oauthlib>=0.7.0 in /usr/local/lib/python3.6/dist-packages (from google-auth-oauthlib<0.5,>=0.4.1->tensorboard~=2.4->tensorflow) (1.3.0)\n",
            "Requirement already satisfied: certifi>=2017.4.17 in /usr/local/lib/python3.6/dist-packages (from requests<3,>=2.21.0->tensorboard~=2.4->tensorflow) (2020.12.5)\n",
            "Requirement already satisfied: chardet<4,>=3.0.2 in /usr/local/lib/python3.6/dist-packages (from requests<3,>=2.21.0->tensorboard~=2.4->tensorflow) (3.0.4)\n",
            "Requirement already satisfied: idna<3,>=2.5 in /usr/local/lib/python3.6/dist-packages (from requests<3,>=2.21.0->tensorboard~=2.4->tensorflow) (2.10)\n",
            "Requirement already satisfied: urllib3!=1.25.0,!=1.25.1,<1.26,>=1.21.1 in /usr/local/lib/python3.6/dist-packages (from requests<3,>=2.21.0->tensorboard~=2.4->tensorflow) (1.24.3)\n",
            "Requirement already satisfied: importlib-metadata; python_version < \"3.8\" in /usr/local/lib/python3.6/dist-packages (from markdown>=2.6.8->tensorboard~=2.4->tensorflow) (3.3.0)\n",
            "Requirement already satisfied: pyasn1-modules>=0.2.1 in /usr/local/lib/python3.6/dist-packages (from google-auth<2,>=1.6.3->tensorboard~=2.4->tensorflow) (0.2.8)\n",
            "Requirement already satisfied: rsa<5,>=3.1.4; python_version >= \"3\" in /usr/local/lib/python3.6/dist-packages (from google-auth<2,>=1.6.3->tensorboard~=2.4->tensorflow) (4.6)\n",
            "Requirement already satisfied: cachetools<5.0,>=2.0.0 in /usr/local/lib/python3.6/dist-packages (from google-auth<2,>=1.6.3->tensorboard~=2.4->tensorflow) (4.2.0)\n",
            "Requirement already satisfied: oauthlib>=3.0.0 in /usr/local/lib/python3.6/dist-packages (from requests-oauthlib>=0.7.0->google-auth-oauthlib<0.5,>=0.4.1->tensorboard~=2.4->tensorflow) (3.1.0)\n",
            "Requirement already satisfied: zipp>=0.5 in /usr/local/lib/python3.6/dist-packages (from importlib-metadata; python_version < \"3.8\"->markdown>=2.6.8->tensorboard~=2.4->tensorflow) (3.4.0)\n",
            "Requirement already satisfied: pyasn1<0.5.0,>=0.4.6 in /usr/local/lib/python3.6/dist-packages (from pyasn1-modules>=0.2.1->google-auth<2,>=1.6.3->tensorboard~=2.4->tensorflow) (0.4.8)\n"
          ],
          "name": "stdout"
        }
      ]
    },
    {
      "cell_type": "code",
      "metadata": {
        "colab": {
          "base_uri": "https://localhost:8080/"
        },
        "id": "kjxKmjGVBkjP",
        "outputId": "2b435069-97f2-4009-b946-dafd150e2fce"
      },
      "source": [
        "!pip install keras\r\n",
        "!pip install pillow"
      ],
      "execution_count": null,
      "outputs": [
        {
          "output_type": "stream",
          "text": [
            "Requirement already satisfied: keras in /usr/local/lib/python3.6/dist-packages (2.4.3)\n",
            "Requirement already satisfied: pyyaml in /usr/local/lib/python3.6/dist-packages (from keras) (3.13)\n",
            "Requirement already satisfied: scipy>=0.14 in /usr/local/lib/python3.6/dist-packages (from keras) (1.4.1)\n",
            "Requirement already satisfied: numpy>=1.9.1 in /usr/local/lib/python3.6/dist-packages (from keras) (1.19.5)\n",
            "Requirement already satisfied: h5py in /usr/local/lib/python3.6/dist-packages (from keras) (2.10.0)\n",
            "Requirement already satisfied: six in /usr/local/lib/python3.6/dist-packages (from h5py->keras) (1.15.0)\n",
            "Requirement already satisfied: pillow in /usr/local/lib/python3.6/dist-packages (7.0.0)\n"
          ],
          "name": "stdout"
        }
      ]
    },
    {
      "cell_type": "code",
      "metadata": {
        "colab": {
          "base_uri": "https://localhost:8080/"
        },
        "id": "LhgvMrUEBr8O",
        "outputId": "dd7d2d40-cd3d-460c-aa11-c57a0a57490c"
      },
      "source": [
        "import keras\r\n",
        "from keras.datasets import mnist\r\n",
        "from keras.models import Sequential\r\n",
        "from keras.layers import Dense, Dropout, Flatten\r\n",
        "from keras.layers import Conv2D, MaxPooling2D\r\n",
        "from keras import backend as k\r\n",
        "\r\n",
        "# The Data Split\r\n",
        "(X_train,Y_train),(X_test,Y_test)=mnist.load_data()\r\n",
        "\r\n",
        "print(X_train.shape,Y_train.shape)\r\n"
      ],
      "execution_count": null,
      "outputs": [
        {
          "output_type": "stream",
          "text": [
            "Downloading data from https://storage.googleapis.com/tensorflow/tf-keras-datasets/mnist.npz\n",
            "11493376/11490434 [==============================] - 0s 0us/step\n",
            "(60000, 28, 28) (60000,)\n"
          ],
          "name": "stdout"
        }
      ]
    },
    {
      "cell_type": "code",
      "metadata": {
        "colab": {
          "base_uri": "https://localhost:8080/"
        },
        "id": "25nufVm3DDgw",
        "outputId": "35362855-a65e-437e-ee23-94174809c0f8"
      },
      "source": [
        "#Preprocess the Data\r\n",
        "#The image data cannot be fed directly into the model so we need to perform some operations and process the data to make it ready for our neural network. \r\n",
        "#The dimension of the training data is (60000,28,28). The CNN model will require one more dimension so we reshape the matrix to shape (60000,28,28,1).\r\n",
        "X_train=X_train.reshape(X_train.shape[0],28,28,1)\r\n",
        "X_test=X_test.reshape(X_test.shape[0],28,28,1)\r\n",
        "input_shape=(28,28,1)\r\n",
        "\r\n",
        "#Converting class vectors to binary class matrices \r\n",
        "Y_train=keras.utils.to_categorical(Y_train,num_classes=None)\r\n",
        "Y_test=keras.utils.to_categorical(Y_test,num_classes=None)\r\n",
        "X_train=X_train.astype('float32')\r\n",
        "X_test=X_test.astype('float32')\r\n",
        "#Normalizing the vectors since it is Image and the Maximum Value of the pixel is 255 So we will Simply divide it with 255\r\n",
        "X_train/=255\r\n",
        "X_test/=255\r\n",
        "\r\n",
        "print('X_train.shape:',X_train.shape)\r\n",
        "print(X_train.shape[0],'train samples')\r\n",
        "print(X_test.shape[0],'test samples')"
      ],
      "execution_count": null,
      "outputs": [
        {
          "output_type": "stream",
          "text": [
            "X_train.shape: (60000, 28, 28, 1)\n",
            "60000 train samples\n",
            "10000 test samples\n"
          ],
          "name": "stdout"
        }
      ]
    },
    {
      "cell_type": "code",
      "metadata": {
        "id": "Yk1rKkgELHi8"
      },
      "source": [
        "#Create the Model\r\n",
        "batch_size=128\r\n",
        "epochs=10\r\n",
        "num_classes=10\r\n",
        "\r\n",
        "model=Sequential()\r\n",
        "model.add(Conv2D(32,kernel_size=(3, 3),activation='relu',input_shape=input_shape))\r\n",
        "model.add(Conv2D(64,(3, 3),activation='relu'))\r\n",
        "model.add(MaxPooling2D(pool_size=(2,2)))\r\n",
        "model.add(Dropout(0.25))\r\n",
        "model.add(Flatten())\r\n",
        "model.add(Dense(256,activation='relu'))\r\n",
        "model.add(Dropout(0.5))\r\n",
        "model.add(Dense(num_classes,activation='softmax'))\r\n",
        "\r\n",
        "model.compile(loss=keras.losses.categorical_crossentropy,optimizer=keras.optimizers.Adadelta(),metrics=['accuracy'])"
      ],
      "execution_count": null,
      "outputs": []
    },
    {
      "cell_type": "code",
      "metadata": {
        "colab": {
          "base_uri": "https://localhost:8080/"
        },
        "id": "2j0wIzu8LMDW",
        "outputId": "4d5c2ec7-a918-406b-930a-1d6ed1e8a5ad"
      },
      "source": [
        "\r\n",
        "\r\n",
        "\r\n",
        "hist=model.fit(X_train,Y_train,batch_size=batch_size,epochs=epochs,verbose=1,validation_data=(X_test,Y_test))\r\n",
        "print('The Model has successfully trained')\r\n",
        "model.save('mnist.h5')\r\n",
        "print(\"Saving the model as mnist.h5\")"
      ],
      "execution_count": null,
      "outputs": [
        {
          "output_type": "stream",
          "text": [
            "Epoch 1/10\n",
            "469/469 [==============================] - 163s 347ms/step - loss: 2.2899 - accuracy: 0.1310 - val_loss: 2.2479 - val_accuracy: 0.3009\n",
            "Epoch 2/10\n",
            "469/469 [==============================] - 159s 340ms/step - loss: 2.2434 - accuracy: 0.2435 - val_loss: 2.1858 - val_accuracy: 0.4327\n",
            "Epoch 3/10\n",
            "469/469 [==============================] - 158s 336ms/step - loss: 2.1807 - accuracy: 0.3493 - val_loss: 2.0992 - val_accuracy: 0.5397\n",
            "Epoch 4/10\n",
            "469/469 [==============================] - 162s 346ms/step - loss: 2.0941 - accuracy: 0.4426 - val_loss: 1.9751 - val_accuracy: 0.6176\n",
            "Epoch 5/10\n",
            "469/469 [==============================] - 162s 345ms/step - loss: 1.9722 - accuracy: 0.5156 - val_loss: 1.7992 - val_accuracy: 0.6822\n",
            "Epoch 6/10\n",
            "469/469 [==============================] - 162s 346ms/step - loss: 1.7932 - accuracy: 0.5880 - val_loss: 1.5682 - val_accuracy: 0.7398\n",
            "Epoch 7/10\n",
            "469/469 [==============================] - 163s 347ms/step - loss: 1.5843 - accuracy: 0.6357 - val_loss: 1.3111 - val_accuracy: 0.7792\n",
            "Epoch 8/10\n",
            "469/469 [==============================] - 189s 403ms/step - loss: 1.3629 - accuracy: 0.6679 - val_loss: 1.0796 - val_accuracy: 0.8058\n",
            "Epoch 9/10\n",
            "469/469 [==============================] - 188s 401ms/step - loss: 1.1727 - accuracy: 0.6952 - val_loss: 0.9021 - val_accuracy: 0.8233\n",
            "Epoch 10/10\n",
            "469/469 [==============================] - 171s 364ms/step - loss: 1.0316 - accuracy: 0.7172 - val_loss: 0.7757 - val_accuracy: 0.8341\n",
            "The Model has successfully trained\n",
            "Saving the model as mnist.h5\n"
          ],
          "name": "stdout"
        }
      ]
    },
    {
      "cell_type": "code",
      "metadata": {
        "colab": {
          "base_uri": "https://localhost:8080/"
        },
        "id": "mYISdvWua-cV",
        "outputId": "fe3b7bed-ddc2-4f7c-94f1-4afe2e347a13"
      },
      "source": [
        "!pip install win32gui"
      ],
      "execution_count": null,
      "outputs": [
        {
          "output_type": "stream",
          "text": [
            "Collecting win32gui\n",
            "  Using cached https://files.pythonhosted.org/packages/b8/75/7bed82934e51903f9d48b26b3996161bb2dce1731607b4bb7fd26003ed3e/win32gui-221.5.tar.gz\n",
            "  Installing build dependencies ... \u001b[?25l\u001b[?25hdone\n",
            "  Getting requirements to build wheel ... \u001b[?25l\u001b[?25herror\n",
            "\u001b[31mERROR: Command errored out with exit status 1: /usr/bin/python3 /usr/local/lib/python3.6/dist-packages/pip/_vendor/pep517/_in_process.py get_requires_for_build_wheel /tmp/tmpjkhot5_q Check the logs for full command output.\u001b[0m\n"
          ],
          "name": "stdout"
        }
      ]
    },
    {
      "cell_type": "code",
      "metadata": {
        "colab": {
          "base_uri": "https://localhost:8080/",
          "height": 388
        },
        "id": "7bZpu5TqUlc9",
        "outputId": "2d8f7054-0058-41be-8913-6c5642afe61e"
      },
      "source": [
        "from keras.models import load_model\r\n",
        "from tkinter import *\r\n",
        "import tkinter as tk\r\n",
        "import win32gui\r\n",
        "from PIL import ImageGrab, Image\r\n",
        "import numpy as np\r\n",
        "\r\n",
        "model=load_model(\"mnist.h5\")\r\n",
        "\r\n",
        "def predict_digit(img):\r\n",
        "  #resize image to 28x28 pixels\r\n",
        "  img=img.resize((28,28))\r\n",
        "  #convert rgb to grayscale\r\n",
        "  img=img.convert('L')\r\n",
        "  img=np.array(img)\r\n",
        "  #reshaping to support our model and normalizing\r\n",
        "  img=img.reshape(1,28,28,1)\r\n",
        "  img/=255.0\r\n",
        "  #predicting the class\r\n",
        "  res=model.predict([img])[0]\r\n",
        "  return np.argmax(res), max(res)\r\n",
        "\r\n",
        "  class App(tk.Tk):\r\n",
        "    def __init__(self):\r\n",
        "      tk.Tk.__init__(self)\r\n",
        "      self.x=self.y=0\r\n",
        "\r\n",
        "      #creating elements\r\n",
        "      self.canvas=tk.canvas(self,width=300,height=300,bg=\"white\",cursor=\"cross\")\r\n",
        "      self.label=tk.label(self,text=\"Thinking..\",font=(\"Helvetica\",48))\r\n",
        "      self.classify_btn=tk.Button(self,text=\"recognise\",command=self.classify_handwriting)\r\n",
        "      self.button_clear=tk.Button(self,text=\"Clear\",command=self.clear_all)\r\n",
        "\r\n",
        "      #Grid Structure \r\n",
        "      self.canvas.grid(row=0,column=0,pady=2,sticky=W,)\r\n",
        "      self.label.grid(row=0,column=1,pady=2,padx=2)\r\n",
        "      self.classify_btn(row=1,column=1,pady=2,padx=2)\r\n",
        "      self.button_clear(row=1,column=0,pady=2)\r\n",
        "\r\n",
        "      #self.canvas.bind(\"<Motion>\",self.start_pos)\r\n",
        "      self.canvas.bind(\"<B1-Motion>\",self.draw_lines)\r\n",
        "\r\n",
        "    def clear_all(self):\r\n",
        "       self.canvas.delete(\"all\")\r\n",
        "\r\n",
        "    def classify_handwriting(self):\r\n",
        "      HWND=self.canvas.winfo_id()#to get the handle of the canvas\r\n",
        "      rec=win32gui.GetWindowRec(HWND)#get the coordinates of the canvas\r\n",
        "      im=ImageGrab.grab(rec)\r\n",
        "\r\n",
        "      digit,acc=predict_digit(im)\r\n",
        "      self.label.configure(text=str(digit)+', '+str(int(acc*100))+'%')\r\n",
        "\r\n",
        "    def draw_lines(self,event):\r\n",
        "      self.x=event.x\r\n",
        "      self.y=event.y\r\n",
        "      r=8\r\n",
        "      self.canvas.create_oval(self.x-r,self.y-r,self.x+r,self.y+r,fill='black')\r\n",
        "\r\n",
        "    app=App()\r\n",
        "    mainloop()\r\n"
      ],
      "execution_count": null,
      "outputs": [
        {
          "output_type": "error",
          "ename": "ModuleNotFoundError",
          "evalue": "ignored",
          "traceback": [
            "\u001b[0;31m---------------------------------------------------------------------------\u001b[0m",
            "\u001b[0;31mModuleNotFoundError\u001b[0m                       Traceback (most recent call last)",
            "\u001b[0;32m<ipython-input-26-c0137f7b80dc>\u001b[0m in \u001b[0;36m<module>\u001b[0;34m()\u001b[0m\n\u001b[1;32m      2\u001b[0m \u001b[0;32mfrom\u001b[0m \u001b[0mtkinter\u001b[0m \u001b[0;32mimport\u001b[0m \u001b[0;34m*\u001b[0m\u001b[0;34m\u001b[0m\u001b[0;34m\u001b[0m\u001b[0m\n\u001b[1;32m      3\u001b[0m \u001b[0;32mimport\u001b[0m \u001b[0mtkinter\u001b[0m \u001b[0;32mas\u001b[0m \u001b[0mtk\u001b[0m\u001b[0;34m\u001b[0m\u001b[0;34m\u001b[0m\u001b[0m\n\u001b[0;32m----> 4\u001b[0;31m \u001b[0;32mimport\u001b[0m \u001b[0mwin32gui\u001b[0m\u001b[0;34m\u001b[0m\u001b[0;34m\u001b[0m\u001b[0m\n\u001b[0m\u001b[1;32m      5\u001b[0m \u001b[0;32mfrom\u001b[0m \u001b[0mPIL\u001b[0m \u001b[0;32mimport\u001b[0m \u001b[0mImageGrab\u001b[0m\u001b[0;34m,\u001b[0m \u001b[0mImage\u001b[0m\u001b[0;34m\u001b[0m\u001b[0;34m\u001b[0m\u001b[0m\n\u001b[1;32m      6\u001b[0m \u001b[0;32mimport\u001b[0m \u001b[0mnumpy\u001b[0m \u001b[0;32mas\u001b[0m \u001b[0mnp\u001b[0m\u001b[0;34m\u001b[0m\u001b[0;34m\u001b[0m\u001b[0m\n",
            "\u001b[0;31mModuleNotFoundError\u001b[0m: No module named 'win32gui'",
            "",
            "\u001b[0;31m---------------------------------------------------------------------------\u001b[0;32m\nNOTE: If your import is failing due to a missing package, you can\nmanually install dependencies using either !pip or !apt.\n\nTo view examples of installing some common dependencies, click the\n\"Open Examples\" button below.\n\u001b[0;31m---------------------------------------------------------------------------\u001b[0m\n"
          ]
        }
      ]
    }
  ]
}