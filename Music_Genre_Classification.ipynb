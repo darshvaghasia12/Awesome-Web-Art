{
  "nbformat": 4,
  "nbformat_minor": 0,
  "metadata": {
    "colab": {
      "name": "Music Genre Classification.ipynb",
      "provenance": [],
      "toc_visible": true,
      "include_colab_link": true
    },
    "kernelspec": {
      "name": "python3",
      "display_name": "Python 3"
    }
  },
  "cells": [
    {
      "cell_type": "markdown",
      "metadata": {
        "id": "view-in-github",
        "colab_type": "text"
      },
      "source": [
        "<a href=\"https://colab.research.google.com/github/darshvaghasia12/Awesome-Web-Art/blob/master/Music_Genre_Classification.ipynb\" target=\"_parent\"><img src=\"https://colab.research.google.com/assets/colab-badge.svg\" alt=\"Open In Colab\"/></a>"
      ]
    },
    {
      "cell_type": "code",
      "metadata": {
        "colab": {
          "base_uri": "https://localhost:8080/"
        },
        "id": "EScThb0BAQbL",
        "outputId": "8c73d9c4-ad87-4e07-f604-f2200985c807"
      },
      "source": [
        "pip install python_speech_features"
      ],
      "execution_count": null,
      "outputs": [
        {
          "output_type": "stream",
          "text": [
            "Requirement already satisfied: python_speech_features in /usr/local/lib/python3.6/dist-packages (0.6)\n"
          ],
          "name": "stdout"
        }
      ]
    },
    {
      "cell_type": "code",
      "metadata": {
        "id": "nwrkNaMA8e48"
      },
      "source": [
        "from python_speech_features import mfcc\r\n",
        "import scipy.io.wavfile as wav\r\n",
        "import numpy as np\r\n",
        "\r\n",
        "from tempfile import TemporaryFile\r\n",
        "import os\r\n",
        "import pickle\r\n",
        "import random\r\n",
        "import operator\r\n",
        "\r\n",
        "import math\r\n"
      ],
      "execution_count": null,
      "outputs": []
    },
    {
      "cell_type": "code",
      "metadata": {
        "id": "qN2ahosRAB6T"
      },
      "source": [
        "#To get the distance between feature vectors and get neighbours\r\n",
        "def getNeighbors(trainingSet, instance, k):\r\n",
        "    distances = []\r\n",
        "    for x in range (len(trainingSet)):\r\n",
        "        dist = distance(trainingSet[x], instance, k )+ distance(instance, trainingSet[x], k)\r\n",
        "        distances.append((trainingSet[x][2], dist))\r\n",
        "    distances.sort(key=operator.itemgetter(1))\r\n",
        "    neighbors = []\r\n",
        "    for x in range(k):\r\n",
        "        neighbors.append(distances[x][0])\r\n",
        "    return neighbors"
      ],
      "execution_count": null,
      "outputs": []
    },
    {
      "cell_type": "code",
      "metadata": {
        "id": "PSezESGWqOCJ"
      },
      "source": [
        "def nearestClass(neighbors):\r\n",
        "    classVote = {}\r\n",
        "\r\n",
        "    for x in range(len(neighbors)):\r\n",
        "        response = neighbors[x]\r\n",
        "        if response in classVote:\r\n",
        "            classVote[response]+=1 \r\n",
        "        else:\r\n",
        "            classVote[response]=1\r\n",
        "\r\n",
        "    sorter = sorted(classVote.items(), key = operator.itemgetter(1), reverse=True)\r\n",
        "    return sorter[0][0]"
      ],
      "execution_count": null,
      "outputs": []
    },
    {
      "cell_type": "code",
      "metadata": {
        "id": "-G7AwYe-GbWo"
      },
      "source": [
        "#Model Evaluation\r\n",
        "def getAccuracy(testSet, predictions):\r\n",
        "    correct = 0 \r\n",
        "    for x in range (len(testSet)):\r\n",
        "        if testSet[x][-1]==predictions[x]:\r\n",
        "            correct+=1\r\n",
        "    return 1.0*correct/len(testSet)"
      ],
      "execution_count": null,
      "outputs": []
    },
    {
      "cell_type": "code",
      "metadata": {
        "id": "ybfKp_21HJv8"
      },
      "source": [
        "\r\n",
        "#Extraction of Features\r\n",
        "directory=\"/content/drive/MyDrive/genres\"\r\n",
        "f=open(\"my.dat\",'wb')\r\n",
        "i=0\r\n",
        "\r\n",
        "for folder in os.listdir(directory):\r\n",
        "  i+=1\r\n",
        "  if i==11:\r\n",
        "    break\r\n",
        "  for file in os.listdir(directory+\"/\"+folder):\r\n",
        "    (rate,sig)=wav.read(directory+\"/\"+folder+\"/\"+file)  \r\n",
        "    mfcc_feat=mfcc(sig,rate,winlen=0.020,appendEnergy=False)\r\n",
        "    covariance=np.cov(np.matrix.transpose(mfcc_feat))\r\n",
        "    mean_matrix=mfcc_feat.mean(0)\r\n",
        "    feature=(mean_matrix,covariance,i)\r\n",
        "    pickle.dump(feature,f)\r\n",
        "f.close()"
      ],
      "execution_count": null,
      "outputs": []
    },
    {
      "cell_type": "code",
      "metadata": {
        "id": "3s_xbpMnaiA1"
      },
      "source": [
        "dataset=[]\r\n",
        "def loadDataset(filename,split,trSet,teSet):\r\n",
        "  with open(\"my.dat\",'rb') as f:\r\n",
        "    while True:\r\n",
        "      try:\r\n",
        "        dataset.append(pickle.load(f))\r\n",
        "      except EOFerror:\r\n",
        "        f.close()\r\n",
        "        break\r\n",
        "  for i in range(len(dataset)):\r\n",
        "    if random.random()<split:\r\n",
        "      trSet.append(dataset[i])\r\n",
        "    else:\r\n",
        "      teSet.append(dataset[i])\r\n",
        "  trainingSet=[]\r\n",
        "  testSet=[]\r\n",
        "  loadDataset(\"my.dat\",0.66,trainingSet,testSet)\r\n",
        "  \r\n",
        " "
      ],
      "execution_count": null,
      "outputs": []
    },
    {
      "cell_type": "code",
      "metadata": {
        "id": "KzzYBwH1qq2M"
      },
      "source": [
        "def distance(instance1 , instance2 , k ):\r\n",
        "    distance =0 \r\n",
        "    mm1 = instance1[0] \r\n",
        "    cm1 = instance1[1]\r\n",
        "    mm2 = instance2[0]\r\n",
        "    cm2 = instance2[1]\r\n",
        "    distance = np.trace(np.dot(np.linalg.inv(cm2), cm1)) \r\n",
        "    distance+=(np.dot(np.dot((mm2-mm1).transpose() , np.linalg.inv(cm2)) , mm2-mm1 )) \r\n",
        "    distance+= np.log(np.linalg.det(cm2)) - np.log(np.linalg.det(cm1))\r\n",
        "    distance-= k\r\n",
        "    return distance"
      ],
      "execution_count": null,
      "outputs": []
    },
    {
      "cell_type": "code",
      "metadata": {
        "colab": {
          "base_uri": "https://localhost:8080/"
        },
        "id": "pHHB_RZ0bkEx",
        "outputId": "93892936-dbb5-4450-bd9f-8ff4fd9ac1d4"
      },
      "source": [
        "#prediction on Accuracy\r\n",
        "leng = len(testSet)\r\n",
        "predictions = []\r\n",
        "for x in range (leng):\r\n",
        "    predictions.append(nearestClass(getNeighbors(trainingSet ,testSet[x] , 5))) \r\n",
        "\r\n",
        "accuracy1 = getAccuracy(testSet , predictions)\r\n",
        "print(accuracy1)"
      ],
      "execution_count": null,
      "outputs": [
        {
          "output_type": "stream",
          "text": [
            "0.7171428571428572\n"
          ],
          "name": "stdout"
        }
      ]
    },
    {
      "cell_type": "code",
      "metadata": {
        "colab": {
          "base_uri": "https://localhost:8080/"
        },
        "id": "5WEIc0R-dQAQ",
        "outputId": "cce95fa7-bf83-4741-bb58-e36a99d235fe"
      },
      "source": [
        "from python_speech_features import mfcc\r\n",
        "import scipy.io.wavfile as wav\r\n",
        "import numpy as np\r\n",
        "from tempfile import TemporaryFile\r\n",
        "import os\r\n",
        "import pickle\r\n",
        "import random \r\n",
        "import operator\r\n",
        "\r\n",
        "import math\r\n",
        "import numpy as np\r\n",
        "from collections import defaultdict\r\n",
        "\r\n",
        "dataset = []\r\n",
        "def loadDataset(filename):\r\n",
        "    with open(\"my.dat\" , 'rb') as f:\r\n",
        "        while True:\r\n",
        "            try:\r\n",
        "                dataset.append(pickle.load(f))\r\n",
        "            except EOFError:\r\n",
        "                f.close()\r\n",
        "                break\r\n",
        "\r\n",
        "loadDataset(\"my.dat\")\r\n",
        "\r\n",
        "def distance(instance1 , instance2 , k ):\r\n",
        "    distance =0 \r\n",
        "    mm1 = instance1[0] \r\n",
        "    cm1 = instance1[1]\r\n",
        "    mm2 = instance2[0]\r\n",
        "    cm2 = instance2[1]\r\n",
        "    distance = np.trace(np.dot(np.linalg.inv(cm2), cm1)) \r\n",
        "    distance+=(np.dot(np.dot((mm2-mm1).transpose() , np.linalg.inv(cm2)) , mm2-mm1 )) \r\n",
        "    distance+= np.log(np.linalg.det(cm2)) - np.log(np.linalg.det(cm1))\r\n",
        "    distance-= k\r\n",
        "    return distance\r\n",
        "\r\n",
        "def getNeighbors(trainingSet , instance , k):\r\n",
        "    distances =[]\r\n",
        "    for x in range (len(trainingSet)):\r\n",
        "        dist = distance(trainingSet[x], instance, k )+ distance(instance, trainingSet[x], k)\r\n",
        "        distances.append((trainingSet[x][2], dist))\r\n",
        "    distances.sort(key=operator.itemgetter(1))\r\n",
        "    neighbors = []\r\n",
        "    for x in range(k):\r\n",
        "        neighbors.append(distances[x][0])\r\n",
        "    return neighbors\t\r\n",
        "\r\n",
        "def nearestClass(neighbors):\r\n",
        "    classVote ={}\r\n",
        "    for x in range(len(neighbors)):\r\n",
        "        response = neighbors[x]\r\n",
        "        if response in classVote:\r\n",
        "            classVote[response]+=1 \r\n",
        "        else:\r\n",
        "            classVote[response]=1 \r\n",
        "    sorter = sorted(classVote.items(), key = operator.itemgetter(1), reverse=True)\r\n",
        "    return sorter[0][0]\r\n",
        "\r\n",
        "\r\n",
        "results=defaultdict(int)\r\n",
        "\r\n",
        "i=1\r\n",
        "for folder in os.listdir(\"/content/drive/MyDrive/genres\"):\r\n",
        "    results[i]=folder\r\n",
        "    i+=1\r\n",
        "\r\n",
        "(rate,sig)=wav.read(\"/content/drive/MyDrive/genres/Baarishein (DARSH MUSIC).wav\")\r\n",
        "mfcc_feat=mfcc(sig,rate,winlen=0.020,appendEnergy=False)\r\n",
        "covariance = np.cov(np.matrix.transpose(mfcc_feat))\r\n",
        "mean_matrix = mfcc_feat.mean(0)\r\n",
        "feature=(mean_matrix,covariance,0)\r\n",
        "\r\n",
        "pred=nearestClass(getNeighbors(dataset ,feature , 5))\r\n",
        "\r\n",
        "print(results[pred])"
      ],
      "execution_count": null,
      "outputs": [
        {
          "output_type": "stream",
          "text": [
            "/usr/local/lib/python3.6/dist-packages/ipykernel_launcher.py:68: WavFileWarning: Chunk (non-data) not understood, skipping it.\n",
            "WARNING:root:frame length (882) is greater than FFT size (512), frame will be truncated. Increase NFFT to avoid.\n"
          ],
          "name": "stderr"
        },
        {
          "output_type": "stream",
          "text": [
            "pop\n"
          ],
          "name": "stdout"
        }
      ]
    }
  ]
}